{
 "cells": [
  {
   "cell_type": "code",
   "execution_count": null,
   "metadata": {},
   "outputs": [],
   "source": [
    "for size in sizes:\n",
    "    with open(f\"input_size_{size}.txt\", 'w') as file:\n",
    "        for item in generate_input(size, size):\n",
    "            file.write(f\"{item}\\n\")\n",
    "    print(f\"Generated input of size {size} and wrote it to input_size_{size}.txt\")"
   ]
  }
 ],
 "metadata": {
  "kernelspec": {
   "display_name": "Python 3",
   "language": "python",
   "name": "python3"
  },
  "language_info": {
   "name": "python",
   "version": "3.12.1"
  }
 },
 "nbformat": 4,
 "nbformat_minor": 2
}
