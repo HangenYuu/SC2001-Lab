{
 "cells": [
  {
   "cell_type": "code",
   "execution_count": 1,
   "metadata": {},
   "outputs": [],
   "source": [
    "import time\n",
    "from copy import deepcopy\n",
    "\n",
    "from input_generation import generate_input\n",
    "from sorting import hybrid_sort, merge_sort\n",
    "from comparison_counter import ComparisonCounter"
   ]
  },
  {
   "cell_type": "markdown",
   "metadata": {},
   "source": [
    "# Testing the sorting algorithm"
   ]
  },
  {
   "cell_type": "code",
   "execution_count": 3,
   "metadata": {},
   "outputs": [
    {
     "name": "stdout",
     "output_type": "stream",
     "text": [
      "[3, 14, 15, 17, 28, 31, 40, 51]\n",
      "[23, 23, 23, 23, 23, 23, 23, 23]\n"
     ]
    }
   ],
   "source": [
    "arr1 = [14, 40, 31, 28, 3, 15, 17, 51]\n",
    "arr2 = [23, 23, 23, 23, 23, 23, 23, 23]\n",
    "comparison_counter = ComparisonCounter()\n",
    "\n",
    "print(merge_sort(arr1, comparison_counter))\n",
    "assert comparison_counter.get_count() == 16\n",
    "\n",
    "comparison_counter.reset_count()\n",
    "print(merge_sort(arr2, comparison_counter))\n",
    "assert comparison_counter.get_count() == 12"
   ]
  }
 ],
 "metadata": {
  "kernelspec": {
   "display_name": "Python 3",
   "language": "python",
   "name": "python3"
  },
  "language_info": {
   "codemirror_mode": {
    "name": "ipython",
    "version": 3
   },
   "file_extension": ".py",
   "mimetype": "text/x-python",
   "name": "python",
   "nbconvert_exporter": "python",
   "pygments_lexer": "ipython3",
   "version": "3.12.1"
  }
 },
 "nbformat": 4,
 "nbformat_minor": 2
}
