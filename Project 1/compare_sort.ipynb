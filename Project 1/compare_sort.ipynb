{
 "cells": [
  {
   "cell_type": "code",
   "execution_count": 1,
   "metadata": {},
   "outputs": [],
   "source": [
    "import time\n",
    "import numpy as np\n",
    "from copy import deepcopy\n",
    "\n",
    "from sorting import hybrid_sort, merge_sort\n",
    "from comparison_counter import ComparisonCounter\n",
    "\n",
    "np.random.seed(13)"
   ]
  },
  {
   "cell_type": "markdown",
   "metadata": {},
   "source": [
    "# Testing the sorting algorithm"
   ]
  },
  {
   "cell_type": "code",
   "execution_count": 2,
   "metadata": {},
   "outputs": [],
   "source": [
    "arr1 = [14, 40, 31, 28, 3, 15, 17, 51]\n",
    "arr2 = [23, 23, 23, 23, 23, 23, 23, 23]"
   ]
  },
  {
   "cell_type": "code",
   "execution_count": 3,
   "metadata": {},
   "outputs": [
    {
     "name": "stdout",
     "output_type": "stream",
     "text": [
      "[3, 14, 15, 17, 28, 31, 40, 51]\n",
      "[23, 23, 23, 23, 23, 23, 23, 23]\n"
     ]
    }
   ],
   "source": [
    "comparison_counter = ComparisonCounter()\n",
    "\n",
    "print(merge_sort(deepcopy(arr1), comparison_counter))\n",
    "assert comparison_counter.get_count() == 16\n",
    "\n",
    "comparison_counter.reset_count()\n",
    "print(merge_sort(deepcopy(arr2), comparison_counter))\n",
    "assert comparison_counter.get_count() == 12"
   ]
  },
  {
   "cell_type": "code",
   "execution_count": 4,
   "metadata": {},
   "outputs": [
    {
     "name": "stdout",
     "output_type": "stream",
     "text": [
      "[3, 14, 15, 17, 28, 31, 40, 51]\n",
      "[23, 23, 23, 23, 23, 23, 23, 23]\n"
     ]
    }
   ],
   "source": [
    "comparison_counter.reset_count()\n",
    "print(hybrid_sort(deepcopy(arr1), comparison_counter, 4))\n",
    "assert comparison_counter.get_count() >= 16\n",
    "\n",
    "comparison_counter.reset_count()\n",
    "print(hybrid_sort(deepcopy(arr2), comparison_counter, 4))\n",
    "assert comparison_counter.get_count() == 10"
   ]
  },
  {
   "cell_type": "markdown",
   "metadata": {},
   "source": [
    "# Input generation"
   ]
  },
  {
   "cell_type": "code",
   "execution_count": 6,
   "metadata": {},
   "outputs": [
    {
     "name": "stdout",
     "output_type": "stream",
     "text": [
      "Size:  1000\n",
      "Min value: 1\n",
      "Max value: 999\n",
      "\n",
      "Size:  10000\n",
      "Min value: 1\n",
      "Max value: 10000\n",
      "\n",
      "Size:  100000\n",
      "Min value: 1\n",
      "Max value: 100000\n",
      "\n",
      "Size:  1000000\n",
      "Min value: 1\n",
      "Max value: 1000000\n",
      "\n",
      "Size:  10000000\n",
      "Min value: 2\n",
      "Max value: 9999999\n",
      "\n"
     ]
    }
   ],
   "source": [
    "sizes = [1000, 10000, 100000, 1000000, 10000000]\n",
    "inputs = [np.random.randint(1, size + 1, size) for size in sizes]\n",
    "\n",
    "for i in range(len(inputs)):\n",
    "    print(\"Size: \", len(inputs[i]))\n",
    "    print(\"Min value:\", min(inputs[i]))\n",
    "    print(\"Max value:\", max(inputs[i]))\n",
    "    print()"
   ]
  }
 ],
 "metadata": {
  "kernelspec": {
   "display_name": "Python 3",
   "language": "python",
   "name": "python3"
  },
  "language_info": {
   "codemirror_mode": {
    "name": "ipython",
    "version": 3
   },
   "file_extension": ".py",
   "mimetype": "text/x-python",
   "name": "python",
   "nbconvert_exporter": "python",
   "pygments_lexer": "ipython3",
   "version": "3.12.1"
  }
 },
 "nbformat": 4,
 "nbformat_minor": 2
}
